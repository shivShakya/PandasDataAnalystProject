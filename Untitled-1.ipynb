{
 "cells": [
  {
   "cell_type": "code",
   "execution_count": 5,
   "metadata": {},
   "outputs": [],
   "source": [
    "import pandas as pd \n",
    "\n",
    "from pandas import ExcelWriter\n",
    "import os"
   ]
  },
  {
   "cell_type": "code",
   "execution_count": 8,
   "metadata": {},
   "outputs": [
    {
     "data": {
      "text/plain": [
       "'09AHRPM2422Q1ZN_012017_R2A.xlsx'"
      ]
     },
     "execution_count": 8,
     "metadata": {},
     "output_type": "execute_result"
    }
   ],
   "source": [
    "file = []\n",
    "\n",
    "for  i in range(1,13):\n",
    "      for j in range(17,21):\n",
    "         \n",
    "          if int(i) <= 9 :\n",
    "              i = str(i)\n",
    "              j = str(j)\n",
    "              file.append('09AHRPM2422Q1ZN_0'+i+'20'+j+'_R2A.xlsx')\n",
    "          else:\n",
    "             i = str(i)\n",
    "             j = str(j)\n",
    "             file.append('09AHRPM2422Q1ZN_'+i+'20'+j+'_R2A.xlsx')\n",
    "file[0]\n",
    "\n"
   ]
  },
  {
   "cell_type": "code",
   "execution_count": 9,
   "metadata": {},
   "outputs": [
    {
     "data": {
      "text/plain": [
       "38"
      ]
     },
     "execution_count": 9,
     "metadata": {},
     "output_type": "execute_result"
    }
   ],
   "source": [
    "\n",
    "B2B = []\n",
    "for i in range(0,48):\n",
    "     if  os.path.isfile(file[i]) == True:\n",
    "            B2B.append(pd.read_excel(file[i], sheet_name = 1, index_col = 0)) \n",
    "\n",
    "len(B2B)\n"
   ]
  },
  {
   "cell_type": "code",
   "execution_count": 63,
   "metadata": {},
   "outputs": [
    {
     "data": {
      "text/plain": [
       "0                              NIKIT GUPTA\n",
       "1                              NIKIT GUPTA\n",
       "2            SOGO FASHIONS PRIVATE LIMITED\n",
       "3            SOGO FASHIONS PRIVATE LIMITED\n",
       "4         KISHORE CLOTHING PRIVATE LIMITED\n",
       "                       ...                \n",
       "1527                      RAVI KUMAR GUPTA\n",
       "1528                      RAVI KUMAR GUPTA\n",
       "1529                      RAVI KUMAR GUPTA\n",
       "1530    RAJAN METAL ALLOYS PRIVATE LIMITED\n",
       "1531    RAJAN METAL ALLOYS PRIVATE LIMITED\n",
       "Name: Trade/Legal name of the Supplier, Length: 1532, dtype: object"
      ]
     },
     "execution_count": 63,
     "metadata": {},
     "output_type": "execute_result"
    }
   ],
   "source": [
    "B = []\n",
    "for i in range(0,38):\n",
    "     B.append(B2B[i].dropna(axis=0,how='all'))\n",
    "\n",
    "\n",
    "frames = []\n",
    "\n",
    "for i in range(0,38):\n",
    "      frames.append(B[i])\n",
    "\n",
    "\n",
    "  \n",
    "result = pd.concat(frames)\n",
    "\n",
    "\n",
    "\n",
    "fResult = result[result[\"Unnamed: 2\"].str.contains(\"-Total\") == True]\n",
    "\n",
    "\n",
    "FinalResult = fResult.reset_index()\n",
    "\n",
    "FinalResult.rename(columns = {'Goods and Services Tax  - GSTR 2A':'GSTIN of supplier',\n",
    "'Unnamed: 1':'Trade/Legal name of the Supplier','Unnamed: 2':'Invoice Number',\n",
    "'Unnamed: 3':'Invoice type','Unnamed: 4':'Invoice Date',\n",
    "'Unnamed: 5':'Invoice value','Unnamed: 6':'Place of supply',\n",
    "'Unnamed: 7':'Supply Attract Reverse Charge',\n",
    "'Unnamed: 8':'Rate','Unnamed: 9':'Taxable Value',\n",
    "'Unnamed: 10':'Integrated Tax(₹)',\n",
    "'Unnamed: 11':'Central Tax (₹)',\n",
    "'Unnamed: 12':'State/UT tax (₹)',\n",
    "'Unnamed: 13':'Cess  (₹)',\n",
    "'Unnamed: 14':'GSTR-1/5 Filing Status',\n",
    "'Unnamed: 15':'GSTR-1/5 Filing Date',\n",
    "'Unnamed: 16':'GSTR-1/5 Filing Period',\n",
    "'Unnamed: 17':'GSTR-3B Filing Status',\n",
    "'Unnamed: 18':'Amendment made, if any',\n",
    "'Unnamed: 19':'Tax Period in which Amended',\n",
    "'Unnamed: 20':'Effective date of cancellation',\n",
    "}, inplace = True)\n",
    "sum = FinalResult\n",
    "\n",
    "\n",
    "sortEd = sum.groupby('Trade/Legal name of the Supplier')['Invoice type'].agg(''.join).reset_index()\n",
    "arr = []\n",
    "for i in range(len(sortEd)):\n",
    "      arr.append(sortEd['Trade/Legal name of the Supplier'][i])\n",
    "\n",
    "\n",
    "\n",
    "\n"
   ]
  },
  {
   "cell_type": "code",
   "execution_count": 160,
   "metadata": {},
   "outputs": [
    {
     "name": "stderr",
     "output_type": "stream",
     "text": [
      "/Users/jyoti-alok/Library/Python/3.8/lib/python/site-packages/openpyxl/workbook/child.py:99: UserWarning: Title is more than 31 characters. Some applications may not be able to read the file\n",
      "  warnings.warn(\"Title is more than 31 characters. Some applications may not be able to read the file\")\n",
      "/Users/jyoti-alok/Library/Python/3.8/lib/python/site-packages/openpyxl/workbook/child.py:99: UserWarning: Title is more than 31 characters. Some applications may not be able to read the file\n",
      "  warnings.warn(\"Title is more than 31 characters. Some applications may not be able to read the file\")\n",
      "/Users/jyoti-alok/Library/Python/3.8/lib/python/site-packages/openpyxl/workbook/child.py:99: UserWarning: Title is more than 31 characters. Some applications may not be able to read the file\n",
      "  warnings.warn(\"Title is more than 31 characters. Some applications may not be able to read the file\")\n",
      "/Users/jyoti-alok/Library/Python/3.8/lib/python/site-packages/openpyxl/workbook/child.py:99: UserWarning: Title is more than 31 characters. Some applications may not be able to read the file\n",
      "  warnings.warn(\"Title is more than 31 characters. Some applications may not be able to read the file\")\n",
      "/Users/jyoti-alok/Library/Python/3.8/lib/python/site-packages/openpyxl/workbook/child.py:99: UserWarning: Title is more than 31 characters. Some applications may not be able to read the file\n",
      "  warnings.warn(\"Title is more than 31 characters. Some applications may not be able to read the file\")\n",
      "/Users/jyoti-alok/Library/Python/3.8/lib/python/site-packages/openpyxl/workbook/child.py:99: UserWarning: Title is more than 31 characters. Some applications may not be able to read the file\n",
      "  warnings.warn(\"Title is more than 31 characters. Some applications may not be able to read the file\")\n",
      "/Users/jyoti-alok/Library/Python/3.8/lib/python/site-packages/openpyxl/workbook/child.py:99: UserWarning: Title is more than 31 characters. Some applications may not be able to read the file\n",
      "  warnings.warn(\"Title is more than 31 characters. Some applications may not be able to read the file\")\n",
      "/Users/jyoti-alok/Library/Python/3.8/lib/python/site-packages/openpyxl/workbook/child.py:99: UserWarning: Title is more than 31 characters. Some applications may not be able to read the file\n",
      "  warnings.warn(\"Title is more than 31 characters. Some applications may not be able to read the file\")\n",
      "/Users/jyoti-alok/Library/Python/3.8/lib/python/site-packages/openpyxl/workbook/child.py:99: UserWarning: Title is more than 31 characters. Some applications may not be able to read the file\n",
      "  warnings.warn(\"Title is more than 31 characters. Some applications may not be able to read the file\")\n",
      "/Users/jyoti-alok/Library/Python/3.8/lib/python/site-packages/openpyxl/workbook/child.py:99: UserWarning: Title is more than 31 characters. Some applications may not be able to read the file\n",
      "  warnings.warn(\"Title is more than 31 characters. Some applications may not be able to read the file\")\n",
      "/Users/jyoti-alok/Library/Python/3.8/lib/python/site-packages/openpyxl/workbook/child.py:99: UserWarning: Title is more than 31 characters. Some applications may not be able to read the file\n",
      "  warnings.warn(\"Title is more than 31 characters. Some applications may not be able to read the file\")\n",
      "/Users/jyoti-alok/Library/Python/3.8/lib/python/site-packages/openpyxl/workbook/child.py:99: UserWarning: Title is more than 31 characters. Some applications may not be able to read the file\n",
      "  warnings.warn(\"Title is more than 31 characters. Some applications may not be able to read the file\")\n",
      "/Users/jyoti-alok/Library/Python/3.8/lib/python/site-packages/openpyxl/workbook/child.py:99: UserWarning: Title is more than 31 characters. Some applications may not be able to read the file\n",
      "  warnings.warn(\"Title is more than 31 characters. Some applications may not be able to read the file\")\n",
      "/Users/jyoti-alok/Library/Python/3.8/lib/python/site-packages/openpyxl/workbook/child.py:99: UserWarning: Title is more than 31 characters. Some applications may not be able to read the file\n",
      "  warnings.warn(\"Title is more than 31 characters. Some applications may not be able to read the file\")\n",
      "/Users/jyoti-alok/Library/Python/3.8/lib/python/site-packages/openpyxl/workbook/child.py:99: UserWarning: Title is more than 31 characters. Some applications may not be able to read the file\n",
      "  warnings.warn(\"Title is more than 31 characters. Some applications may not be able to read the file\")\n",
      "/Users/jyoti-alok/Library/Python/3.8/lib/python/site-packages/openpyxl/workbook/child.py:99: UserWarning: Title is more than 31 characters. Some applications may not be able to read the file\n",
      "  warnings.warn(\"Title is more than 31 characters. Some applications may not be able to read the file\")\n",
      "/Users/jyoti-alok/Library/Python/3.8/lib/python/site-packages/openpyxl/workbook/child.py:99: UserWarning: Title is more than 31 characters. Some applications may not be able to read the file\n",
      "  warnings.warn(\"Title is more than 31 characters. Some applications may not be able to read the file\")\n",
      "/Users/jyoti-alok/Library/Python/3.8/lib/python/site-packages/openpyxl/workbook/child.py:99: UserWarning: Title is more than 31 characters. Some applications may not be able to read the file\n",
      "  warnings.warn(\"Title is more than 31 characters. Some applications may not be able to read the file\")\n",
      "/Users/jyoti-alok/Library/Python/3.8/lib/python/site-packages/openpyxl/workbook/child.py:99: UserWarning: Title is more than 31 characters. Some applications may not be able to read the file\n",
      "  warnings.warn(\"Title is more than 31 characters. Some applications may not be able to read the file\")\n",
      "/Users/jyoti-alok/Library/Python/3.8/lib/python/site-packages/openpyxl/workbook/child.py:99: UserWarning: Title is more than 31 characters. Some applications may not be able to read the file\n",
      "  warnings.warn(\"Title is more than 31 characters. Some applications may not be able to read the file\")\n",
      "/Users/jyoti-alok/Library/Python/3.8/lib/python/site-packages/openpyxl/workbook/child.py:99: UserWarning: Title is more than 31 characters. Some applications may not be able to read the file\n",
      "  warnings.warn(\"Title is more than 31 characters. Some applications may not be able to read the file\")\n",
      "/Users/jyoti-alok/Library/Python/3.8/lib/python/site-packages/openpyxl/workbook/child.py:99: UserWarning: Title is more than 31 characters. Some applications may not be able to read the file\n",
      "  warnings.warn(\"Title is more than 31 characters. Some applications may not be able to read the file\")\n",
      "/Users/jyoti-alok/Library/Python/3.8/lib/python/site-packages/openpyxl/workbook/child.py:99: UserWarning: Title is more than 31 characters. Some applications may not be able to read the file\n",
      "  warnings.warn(\"Title is more than 31 characters. Some applications may not be able to read the file\")\n",
      "/Users/jyoti-alok/Library/Python/3.8/lib/python/site-packages/openpyxl/workbook/child.py:99: UserWarning: Title is more than 31 characters. Some applications may not be able to read the file\n",
      "  warnings.warn(\"Title is more than 31 characters. Some applications may not be able to read the file\")\n",
      "/Users/jyoti-alok/Library/Python/3.8/lib/python/site-packages/openpyxl/workbook/child.py:99: UserWarning: Title is more than 31 characters. Some applications may not be able to read the file\n",
      "  warnings.warn(\"Title is more than 31 characters. Some applications may not be able to read the file\")\n",
      "/Users/jyoti-alok/Library/Python/3.8/lib/python/site-packages/openpyxl/workbook/child.py:99: UserWarning: Title is more than 31 characters. Some applications may not be able to read the file\n",
      "  warnings.warn(\"Title is more than 31 characters. Some applications may not be able to read the file\")\n",
      "/Users/jyoti-alok/Library/Python/3.8/lib/python/site-packages/openpyxl/workbook/child.py:99: UserWarning: Title is more than 31 characters. Some applications may not be able to read the file\n",
      "  warnings.warn(\"Title is more than 31 characters. Some applications may not be able to read the file\")\n",
      "/Users/jyoti-alok/Library/Python/3.8/lib/python/site-packages/openpyxl/workbook/child.py:99: UserWarning: Title is more than 31 characters. Some applications may not be able to read the file\n",
      "  warnings.warn(\"Title is more than 31 characters. Some applications may not be able to read the file\")\n",
      "/Users/jyoti-alok/Library/Python/3.8/lib/python/site-packages/openpyxl/workbook/child.py:99: UserWarning: Title is more than 31 characters. Some applications may not be able to read the file\n",
      "  warnings.warn(\"Title is more than 31 characters. Some applications may not be able to read the file\")\n",
      "/Users/jyoti-alok/Library/Python/3.8/lib/python/site-packages/openpyxl/workbook/child.py:99: UserWarning: Title is more than 31 characters. Some applications may not be able to read the file\n",
      "  warnings.warn(\"Title is more than 31 characters. Some applications may not be able to read the file\")\n",
      "/Users/jyoti-alok/Library/Python/3.8/lib/python/site-packages/openpyxl/workbook/child.py:99: UserWarning: Title is more than 31 characters. Some applications may not be able to read the file\n",
      "  warnings.warn(\"Title is more than 31 characters. Some applications may not be able to read the file\")\n",
      "/Users/jyoti-alok/Library/Python/3.8/lib/python/site-packages/openpyxl/workbook/child.py:99: UserWarning: Title is more than 31 characters. Some applications may not be able to read the file\n",
      "  warnings.warn(\"Title is more than 31 characters. Some applications may not be able to read the file\")\n",
      "/var/folders/n1/0ldhttss76l3qzjr12xnvs5w0000gn/T/ipykernel_12799/2693950957.py:10: FutureWarning: save is not part of the public API, usage can give unexpected results and will be removed in a future version\n",
      "  writer.save()\n"
     ]
    }
   ],
   "source": [
    "i = 0\n",
    "writer = pd.ExcelWriter('convertedFile.xlsx')\n",
    "\n",
    "FinalSum = sum.groupby(['Trade/Legal name of the Supplier','GSTIN of supplier'],as_index=False)[['Taxable Value','Integrated Tax(₹)','Central Tax (₹)','State/UT tax (₹)']].sum()\n",
    "FinalSum.to_excel(writer, sheet_name='sum', index=False)\n",
    "for i in range(len(arr)):\n",
    "      name =   sum.loc[sum['Trade/Legal name of the Supplier'] == arr[i]]\n",
    "      nam = name.drop(['Trade/Legal name of the Supplier','Amendment made, if any','Tax Period in which Amended','Effective date of cancellation'], axis=1)\n",
    "      nam.to_excel(writer, sheet_name=arr[i], index=False)\n",
    "writer.save()"
   ]
  }
 ],
 "metadata": {
  "kernelspec": {
   "display_name": "Python 3",
   "language": "python",
   "name": "python3"
  },
  "language_info": {
   "codemirror_mode": {
    "name": "ipython",
    "version": 3
   },
   "file_extension": ".py",
   "mimetype": "text/x-python",
   "name": "python",
   "nbconvert_exporter": "python",
   "pygments_lexer": "ipython3",
   "version": "3.11.1"
  },
  "orig_nbformat": 4,
  "vscode": {
   "interpreter": {
    "hash": "1a1af0ee75eeea9e2e1ee996c87e7a2b11a0bebd85af04bb136d915cefc0abce"
   }
  }
 },
 "nbformat": 4,
 "nbformat_minor": 2
}
